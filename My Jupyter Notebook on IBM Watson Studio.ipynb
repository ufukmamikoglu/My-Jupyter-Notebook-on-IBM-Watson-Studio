{
 "cells": [
  {
   "cell_type": "markdown",
   "id": "4c104620-3b0f-4a0d-b302-4fc64560a541",
   "metadata": {},
   "source": [
    "<h1>My Jupyter Notebook on IBM Watson Studio<h1>"
   ]
  },
  {
   "cell_type": "markdown",
   "id": "685af2c5-eee4-4f8a-83bd-f65d9f401d6b",
   "metadata": {},
   "source": [
    "<b>My name is Ufuk </b> "
   ]
  },
  {
   "cell_type": "markdown",
   "id": "8ee615f8-88f4-4eb3-a020-347080685a3b",
   "metadata": {},
   "source": [
    "<i>I am interested in data science because It sounds so cool </i>"
   ]
  },
  {
   "cell_type": "markdown",
   "id": "7c9de75f-622a-4bba-95f8-c400a07b6b3b",
   "metadata": {},
   "source": [
    "<h3>In the 5 markdown my code does most basic math calculation ever <h3>"
   ]
  },
  {
   "cell_type": "code",
   "execution_count": 2,
   "id": "0da96557-8542-42d4-ad94-295995c0169f",
   "metadata": {},
   "outputs": [
    {
     "data": {
      "text/plain": [
       "2"
      ]
     },
     "execution_count": 2,
     "metadata": {},
     "output_type": "execute_result"
    }
   ],
   "source": [
    "1+1"
   ]
  },
  {
   "cell_type": "markdown",
   "id": "e5b2b00b-11b1-44b2-ba62-e5330b2663eb",
   "metadata": {},
   "source": [
    " <table style=\"width:20%\"> <hr> <a> href=\"https://www.google.com\" >Link to Google </a> <hr> </tr>"
   ]
  },
  {
   "cell_type": "code",
   "execution_count": null,
   "id": "23c3c545-286a-42d6-a1b0-f9214f80c220",
   "metadata": {},
   "outputs": [],
   "source": []
  }
 ],
 "metadata": {
  "kernelspec": {
   "display_name": "Python 3 (ipykernel)",
   "language": "python",
   "name": "python3"
  },
  "language_info": {
   "codemirror_mode": {
    "name": "ipython",
    "version": 3
   },
   "file_extension": ".py",
   "mimetype": "text/x-python",
   "name": "python",
   "nbconvert_exporter": "python",
   "pygments_lexer": "ipython3",
   "version": "3.10.5"
  }
 },
 "nbformat": 4,
 "nbformat_minor": 5
}
